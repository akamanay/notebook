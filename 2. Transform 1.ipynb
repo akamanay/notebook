{
 "cells": [
  {
   "cell_type": "markdown",
   "id": "85c00880",
   "metadata": {
    "id": "85c00880"
   },
   "source": [
    "Let's start with a DataFrame that includes several types of common data issues:"
   ]
  },
  {
   "cell_type": "code",
   "execution_count": 6,
   "id": "60c466b1",
   "metadata": {
    "executionInfo": {
     "elapsed": 551,
     "status": "ok",
     "timestamp": 1719030563017,
     "user": {
      "displayName": "Mirado Rafenomahenintsoa",
      "userId": "09956159218912987663"
     },
     "user_tz": -180
    },
    "id": "60c466b1"
   },
   "outputs": [],
   "source": [
    "import pandas as pd\n",
    "import numpy as np\n",
    "\n",
    "# Define a DataFrame\n",
    "data = {\n",
    "    'Name': ['John Doe', 'Jane Smith', np.nan, 'Mike Brown', '', 'Amy '],\n",
    "    'Age': ['30', 'Twenty five', '55', 'Invalid', 23, ' '],\n",
    "    'Salary': [3000, 2000, '', 4000, np.nan, 5000],\n",
    "    'Start date': ['01-01-2010', '20110607', '6/15/2009', '2014/05/04', '', '02-30-2010'],\n",
    "    'Department': ['Sales', 'Marketing', 'Marketing', 'HR', 'HR', ''],\n",
    "    'Gender': ['M', 'F', 'F', '', 'M', 'F'],\n",
    "}\n",
    "\n",
    "df = pd.DataFrame(data)\n"
   ]
  },
  {
   "cell_type": "code",
   "execution_count": 9,
   "id": "6c35c328-dc76-48bf-9b8c-071cb625910a",
   "metadata": {
    "executionInfo": {
     "elapsed": 551,
     "status": "ok",
     "timestamp": 1719030563017,
     "user": {
      "displayName": "Mirado Rafenomahenintsoa",
      "userId": "09956159218912987663"
     },
     "user_tz": -180
    },
    "id": "60c466b1"
   },
   "outputs": [
    {
     "data": {
      "text/html": [
       "<div>\n",
       "<style scoped>\n",
       "    .dataframe tbody tr th:only-of-type {\n",
       "        vertical-align: middle;\n",
       "    }\n",
       "\n",
       "    .dataframe tbody tr th {\n",
       "        vertical-align: top;\n",
       "    }\n",
       "\n",
       "    .dataframe thead th {\n",
       "        text-align: right;\n",
       "    }\n",
       "</style>\n",
       "<table border=\"1\" class=\"dataframe\">\n",
       "  <thead>\n",
       "    <tr style=\"text-align: right;\">\n",
       "      <th></th>\n",
       "      <th>Name</th>\n",
       "      <th>Age</th>\n",
       "      <th>Salary</th>\n",
       "      <th>Start date</th>\n",
       "      <th>Department</th>\n",
       "      <th>Gender</th>\n",
       "    </tr>\n",
       "  </thead>\n",
       "  <tbody>\n",
       "    <tr>\n",
       "      <th>0</th>\n",
       "      <td>John Doe</td>\n",
       "      <td>30</td>\n",
       "      <td>3000.0</td>\n",
       "      <td>01-01-2010</td>\n",
       "      <td>Sales</td>\n",
       "      <td>M</td>\n",
       "    </tr>\n",
       "    <tr>\n",
       "      <th>1</th>\n",
       "      <td>Jane Smith</td>\n",
       "      <td>Twenty five</td>\n",
       "      <td>2000.0</td>\n",
       "      <td>20110607</td>\n",
       "      <td>Marketing</td>\n",
       "      <td>F</td>\n",
       "    </tr>\n",
       "    <tr>\n",
       "      <th>2</th>\n",
       "      <td>NaN</td>\n",
       "      <td>55</td>\n",
       "      <td>NaN</td>\n",
       "      <td>6/15/2009</td>\n",
       "      <td>Marketing</td>\n",
       "      <td>F</td>\n",
       "    </tr>\n",
       "    <tr>\n",
       "      <th>3</th>\n",
       "      <td>Mike Brown</td>\n",
       "      <td>Invalid</td>\n",
       "      <td>4000.0</td>\n",
       "      <td>2014/05/04</td>\n",
       "      <td>HR</td>\n",
       "      <td>NaN</td>\n",
       "    </tr>\n",
       "    <tr>\n",
       "      <th>4</th>\n",
       "      <td>NaN</td>\n",
       "      <td>23</td>\n",
       "      <td>NaN</td>\n",
       "      <td>NaN</td>\n",
       "      <td>HR</td>\n",
       "      <td>M</td>\n",
       "    </tr>\n",
       "    <tr>\n",
       "      <th>5</th>\n",
       "      <td>Amy</td>\n",
       "      <td></td>\n",
       "      <td>5000.0</td>\n",
       "      <td>02-30-2010</td>\n",
       "      <td>NaN</td>\n",
       "      <td>F</td>\n",
       "    </tr>\n",
       "  </tbody>\n",
       "</table>\n",
       "</div>"
      ],
      "text/plain": [
       "         Name          Age  Salary  Start date Department Gender\n",
       "0    John Doe           30  3000.0  01-01-2010      Sales      M\n",
       "1  Jane Smith  Twenty five  2000.0    20110607  Marketing      F\n",
       "2         NaN           55     NaN   6/15/2009  Marketing      F\n",
       "3  Mike Brown      Invalid  4000.0  2014/05/04         HR    NaN\n",
       "4         NaN           23     NaN         NaN         HR      M\n",
       "5        Amy                5000.0  02-30-2010        NaN      F"
      ]
     },
     "execution_count": 9,
     "metadata": {},
     "output_type": "execute_result"
    }
   ],
   "source": [
    "df"
   ]
  },
  {
   "cell_type": "markdown",
   "id": "54f453fb",
   "metadata": {
    "id": "54f453fb"
   },
   "source": [
    "This DataFrame contains missing values (np.nan and empty strings), inconsistent representations (of dates, for instance), and erroneous values ('Invalid' in the 'Age' column)."
   ]
  },
  {
   "cell_type": "markdown",
   "id": "a8e73b09",
   "metadata": {
    "id": "a8e73b09"
   },
   "source": [
    "# Missing Data Handling"
   ]
  },
  {
   "cell_type": "code",
   "execution_count": 7,
   "id": "76423b69",
   "metadata": {
    "executionInfo": {
     "elapsed": 717,
     "status": "ok",
     "timestamp": 1719030570860,
     "user": {
      "displayName": "Mirado Rafenomahenintsoa",
      "userId": "09956159218912987663"
     },
     "user_tz": -180
    },
    "id": "76423b69"
   },
   "outputs": [
    {
     "name": "stderr",
     "output_type": "stream",
     "text": [
      "/tmp/ipykernel_12491/3099507046.py:2: FutureWarning: Downcasting behavior in `replace` is deprecated and will be removed in a future version. To retain the old behavior, explicitly call `result.infer_objects(copy=False)`. To opt-in to the future behavior, set `pd.set_option('future.no_silent_downcasting', True)`\n",
      "  df.replace('', np.nan, inplace=True)\n"
     ]
    }
   ],
   "source": [
    "# Replace empty strings with np.nan\n",
    "df.replace('', np.nan, inplace=True)"
   ]
  },
  {
   "cell_type": "code",
   "execution_count": 3,
   "id": "36fe443e",
   "metadata": {
    "executionInfo": {
     "elapsed": 9,
     "status": "ok",
     "timestamp": 1719030576197,
     "user": {
      "displayName": "Mirado Rafenomahenintsoa",
      "userId": "09956159218912987663"
     },
     "user_tz": -180
    },
    "id": "36fe443e"
   },
   "outputs": [],
   "source": [
    "# Fill missing Names with 'Unknown'\n",
    "df['Name'].fillna('Unknown', inplace=True)\n"
   ]
  },
  {
   "cell_type": "code",
   "execution_count": 4,
   "id": "51f8f196",
   "metadata": {
    "executionInfo": {
     "elapsed": 651,
     "status": "ok",
     "timestamp": 1719030581637,
     "user": {
      "displayName": "Mirado Rafenomahenintsoa",
      "userId": "09956159218912987663"
     },
     "user_tz": -180
    },
    "id": "51f8f196"
   },
   "outputs": [],
   "source": [
    "# Fill missing Ages with the mean age\n",
    "df['Age'] = pd.to_numeric(df['Age'], errors='coerce')\n",
    "df['Age'].fillna(df['Age'].mean(), inplace=True)"
   ]
  },
  {
   "cell_type": "code",
   "execution_count": 5,
   "id": "955c9b71",
   "metadata": {
    "executionInfo": {
     "elapsed": 967,
     "status": "ok",
     "timestamp": 1719030587115,
     "user": {
      "displayName": "Mirado Rafenomahenintsoa",
      "userId": "09956159218912987663"
     },
     "user_tz": -180
    },
    "id": "955c9b71"
   },
   "outputs": [],
   "source": [
    "# Drop the rows where at least one element is missing in the columns 'Start date', 'Department' and 'Gender'\n",
    "df.dropna(subset=['Start date', 'Department', 'Gender'], inplace=True)"
   ]
  },
  {
   "cell_type": "code",
   "execution_count": 10,
   "id": "c4441a30-737c-4b9f-9ff2-4d7a31304921",
   "metadata": {},
   "outputs": [
    {
     "data": {
      "text/html": [
       "<div>\n",
       "<style scoped>\n",
       "    .dataframe tbody tr th:only-of-type {\n",
       "        vertical-align: middle;\n",
       "    }\n",
       "\n",
       "    .dataframe tbody tr th {\n",
       "        vertical-align: top;\n",
       "    }\n",
       "\n",
       "    .dataframe thead th {\n",
       "        text-align: right;\n",
       "    }\n",
       "</style>\n",
       "<table border=\"1\" class=\"dataframe\">\n",
       "  <thead>\n",
       "    <tr style=\"text-align: right;\">\n",
       "      <th></th>\n",
       "      <th>Name</th>\n",
       "      <th>Age</th>\n",
       "      <th>Salary</th>\n",
       "      <th>Start date</th>\n",
       "      <th>Department</th>\n",
       "      <th>Gender</th>\n",
       "    </tr>\n",
       "  </thead>\n",
       "  <tbody>\n",
       "    <tr>\n",
       "      <th>0</th>\n",
       "      <td>John Doe</td>\n",
       "      <td>30</td>\n",
       "      <td>3000.0</td>\n",
       "      <td>01-01-2010</td>\n",
       "      <td>Sales</td>\n",
       "      <td>M</td>\n",
       "    </tr>\n",
       "    <tr>\n",
       "      <th>1</th>\n",
       "      <td>Jane Smith</td>\n",
       "      <td>Twenty five</td>\n",
       "      <td>2000.0</td>\n",
       "      <td>20110607</td>\n",
       "      <td>Marketing</td>\n",
       "      <td>F</td>\n",
       "    </tr>\n",
       "    <tr>\n",
       "      <th>2</th>\n",
       "      <td>NaN</td>\n",
       "      <td>55</td>\n",
       "      <td>NaN</td>\n",
       "      <td>6/15/2009</td>\n",
       "      <td>Marketing</td>\n",
       "      <td>F</td>\n",
       "    </tr>\n",
       "    <tr>\n",
       "      <th>3</th>\n",
       "      <td>Mike Brown</td>\n",
       "      <td>Invalid</td>\n",
       "      <td>4000.0</td>\n",
       "      <td>2014/05/04</td>\n",
       "      <td>HR</td>\n",
       "      <td>NaN</td>\n",
       "    </tr>\n",
       "    <tr>\n",
       "      <th>4</th>\n",
       "      <td>NaN</td>\n",
       "      <td>23</td>\n",
       "      <td>NaN</td>\n",
       "      <td>NaN</td>\n",
       "      <td>HR</td>\n",
       "      <td>M</td>\n",
       "    </tr>\n",
       "    <tr>\n",
       "      <th>5</th>\n",
       "      <td>Amy</td>\n",
       "      <td></td>\n",
       "      <td>5000.0</td>\n",
       "      <td>02-30-2010</td>\n",
       "      <td>NaN</td>\n",
       "      <td>F</td>\n",
       "    </tr>\n",
       "  </tbody>\n",
       "</table>\n",
       "</div>"
      ],
      "text/plain": [
       "         Name          Age  Salary  Start date Department Gender\n",
       "0    John Doe           30  3000.0  01-01-2010      Sales      M\n",
       "1  Jane Smith  Twenty five  2000.0    20110607  Marketing      F\n",
       "2         NaN           55     NaN   6/15/2009  Marketing      F\n",
       "3  Mike Brown      Invalid  4000.0  2014/05/04         HR    NaN\n",
       "4         NaN           23     NaN         NaN         HR      M\n",
       "5        Amy                5000.0  02-30-2010        NaN      F"
      ]
     },
     "execution_count": 10,
     "metadata": {},
     "output_type": "execute_result"
    }
   ],
   "source": [
    "df"
   ]
  },
  {
   "cell_type": "markdown",
   "id": "7a9f6046",
   "metadata": {
    "id": "7a9f6046"
   },
   "source": [
    "# Data Cleaning"
   ]
  },
  {
   "cell_type": "code",
   "execution_count": 6,
   "id": "eeb93b41",
   "metadata": {
    "executionInfo": {
     "elapsed": 517,
     "status": "ok",
     "timestamp": 1719030591356,
     "user": {
      "displayName": "Mirado Rafenomahenintsoa",
      "userId": "09956159218912987663"
     },
     "user_tz": -180
    },
    "id": "eeb93b41"
   },
   "outputs": [],
   "source": [
    "# Strip leading and trailing spaces from names\n",
    "df['Name'] = df['Name'].str.strip()\n"
   ]
  },
  {
   "cell_type": "code",
   "execution_count": 7,
   "id": "4209d267",
   "metadata": {
    "executionInfo": {
     "elapsed": 8,
     "status": "ok",
     "timestamp": 1719030594320,
     "user": {
      "displayName": "Mirado Rafenomahenintsoa",
      "userId": "09956159218912987663"
     },
     "user_tz": -180
    },
    "id": "4209d267"
   },
   "outputs": [],
   "source": [
    "# Standardize gender to lowercase\n",
    "df['Gender'] = df['Gender'].str.lower()\n"
   ]
  },
  {
   "cell_type": "code",
   "execution_count": 8,
   "id": "513fa71f",
   "metadata": {
    "executionInfo": {
     "elapsed": 634,
     "status": "ok",
     "timestamp": 1719030599416,
     "user": {
      "displayName": "Mirado Rafenomahenintsoa",
      "userId": "09956159218912987663"
     },
     "user_tz": -180
    },
    "id": "513fa71f"
   },
   "outputs": [],
   "source": [
    "# Replace 'm' with 'Male' and 'f' with 'Female' in 'Gender'\n",
    "df['Gender'].replace({'m': 'Male', 'f': 'Female'}, inplace=True)"
   ]
  },
  {
   "cell_type": "code",
   "execution_count": 8,
   "id": "I1HmZuPpNVwv",
   "metadata": {
    "id": "I1HmZuPpNVwv"
   },
   "outputs": [
    {
     "data": {
      "text/html": [
       "<div>\n",
       "<style scoped>\n",
       "    .dataframe tbody tr th:only-of-type {\n",
       "        vertical-align: middle;\n",
       "    }\n",
       "\n",
       "    .dataframe tbody tr th {\n",
       "        vertical-align: top;\n",
       "    }\n",
       "\n",
       "    .dataframe thead th {\n",
       "        text-align: right;\n",
       "    }\n",
       "</style>\n",
       "<table border=\"1\" class=\"dataframe\">\n",
       "  <thead>\n",
       "    <tr style=\"text-align: right;\">\n",
       "      <th></th>\n",
       "      <th>Name</th>\n",
       "      <th>Age</th>\n",
       "      <th>Salary</th>\n",
       "      <th>Start date</th>\n",
       "      <th>Department</th>\n",
       "      <th>Gender</th>\n",
       "    </tr>\n",
       "  </thead>\n",
       "  <tbody>\n",
       "    <tr>\n",
       "      <th>0</th>\n",
       "      <td>John Doe</td>\n",
       "      <td>30</td>\n",
       "      <td>3000.0</td>\n",
       "      <td>01-01-2010</td>\n",
       "      <td>Sales</td>\n",
       "      <td>M</td>\n",
       "    </tr>\n",
       "    <tr>\n",
       "      <th>1</th>\n",
       "      <td>Jane Smith</td>\n",
       "      <td>Twenty five</td>\n",
       "      <td>2000.0</td>\n",
       "      <td>20110607</td>\n",
       "      <td>Marketing</td>\n",
       "      <td>F</td>\n",
       "    </tr>\n",
       "    <tr>\n",
       "      <th>2</th>\n",
       "      <td>NaN</td>\n",
       "      <td>55</td>\n",
       "      <td>NaN</td>\n",
       "      <td>6/15/2009</td>\n",
       "      <td>Marketing</td>\n",
       "      <td>F</td>\n",
       "    </tr>\n",
       "    <tr>\n",
       "      <th>3</th>\n",
       "      <td>Mike Brown</td>\n",
       "      <td>Invalid</td>\n",
       "      <td>4000.0</td>\n",
       "      <td>2014/05/04</td>\n",
       "      <td>HR</td>\n",
       "      <td>NaN</td>\n",
       "    </tr>\n",
       "    <tr>\n",
       "      <th>4</th>\n",
       "      <td>NaN</td>\n",
       "      <td>23</td>\n",
       "      <td>NaN</td>\n",
       "      <td>NaN</td>\n",
       "      <td>HR</td>\n",
       "      <td>M</td>\n",
       "    </tr>\n",
       "    <tr>\n",
       "      <th>5</th>\n",
       "      <td>Amy</td>\n",
       "      <td></td>\n",
       "      <td>5000.0</td>\n",
       "      <td>02-30-2010</td>\n",
       "      <td>NaN</td>\n",
       "      <td>F</td>\n",
       "    </tr>\n",
       "  </tbody>\n",
       "</table>\n",
       "</div>"
      ],
      "text/plain": [
       "         Name          Age  Salary  Start date Department Gender\n",
       "0    John Doe           30  3000.0  01-01-2010      Sales      M\n",
       "1  Jane Smith  Twenty five  2000.0    20110607  Marketing      F\n",
       "2         NaN           55     NaN   6/15/2009  Marketing      F\n",
       "3  Mike Brown      Invalid  4000.0  2014/05/04         HR    NaN\n",
       "4         NaN           23     NaN         NaN         HR      M\n",
       "5        Amy                5000.0  02-30-2010        NaN      F"
      ]
     },
     "execution_count": 8,
     "metadata": {},
     "output_type": "execute_result"
    }
   ],
   "source": [
    "df"
   ]
  },
  {
   "cell_type": "markdown",
   "id": "947f8c30",
   "metadata": {
    "id": "947f8c30"
   },
   "source": [
    "# Date Formatting"
   ]
  },
  {
   "cell_type": "code",
   "execution_count": 10,
   "id": "419cfd65",
   "metadata": {
    "executionInfo": {
     "elapsed": 769,
     "status": "ok",
     "timestamp": 1719030624448,
     "user": {
      "displayName": "Mirado Rafenomahenintsoa",
      "userId": "09956159218912987663"
     },
     "user_tz": -180
    },
    "id": "419cfd65"
   },
   "outputs": [],
   "source": [
    "# Convert 'Start date' to datetime format\n",
    "df['Start date'] = pd.to_datetime(df['Start date'], errors='coerce')\n"
   ]
  },
  {
   "cell_type": "code",
   "execution_count": 11,
   "id": "11007a89-adcf-46ae-8488-097ae114b7a4",
   "metadata": {},
   "outputs": [
    {
     "data": {
      "text/html": [
       "<div>\n",
       "<style scoped>\n",
       "    .dataframe tbody tr th:only-of-type {\n",
       "        vertical-align: middle;\n",
       "    }\n",
       "\n",
       "    .dataframe tbody tr th {\n",
       "        vertical-align: top;\n",
       "    }\n",
       "\n",
       "    .dataframe thead th {\n",
       "        text-align: right;\n",
       "    }\n",
       "</style>\n",
       "<table border=\"1\" class=\"dataframe\">\n",
       "  <thead>\n",
       "    <tr style=\"text-align: right;\">\n",
       "      <th></th>\n",
       "      <th>Name</th>\n",
       "      <th>Age</th>\n",
       "      <th>Salary</th>\n",
       "      <th>Start date</th>\n",
       "      <th>Department</th>\n",
       "      <th>Gender</th>\n",
       "    </tr>\n",
       "  </thead>\n",
       "  <tbody>\n",
       "    <tr>\n",
       "      <th>0</th>\n",
       "      <td>John Doe</td>\n",
       "      <td>30</td>\n",
       "      <td>3000.0</td>\n",
       "      <td>01-01-2010</td>\n",
       "      <td>Sales</td>\n",
       "      <td>M</td>\n",
       "    </tr>\n",
       "    <tr>\n",
       "      <th>1</th>\n",
       "      <td>Jane Smith</td>\n",
       "      <td>Twenty five</td>\n",
       "      <td>2000.0</td>\n",
       "      <td>20110607</td>\n",
       "      <td>Marketing</td>\n",
       "      <td>F</td>\n",
       "    </tr>\n",
       "    <tr>\n",
       "      <th>2</th>\n",
       "      <td>NaN</td>\n",
       "      <td>55</td>\n",
       "      <td>NaN</td>\n",
       "      <td>6/15/2009</td>\n",
       "      <td>Marketing</td>\n",
       "      <td>F</td>\n",
       "    </tr>\n",
       "    <tr>\n",
       "      <th>3</th>\n",
       "      <td>Mike Brown</td>\n",
       "      <td>Invalid</td>\n",
       "      <td>4000.0</td>\n",
       "      <td>2014/05/04</td>\n",
       "      <td>HR</td>\n",
       "      <td>NaN</td>\n",
       "    </tr>\n",
       "    <tr>\n",
       "      <th>4</th>\n",
       "      <td>NaN</td>\n",
       "      <td>23</td>\n",
       "      <td>NaN</td>\n",
       "      <td>NaN</td>\n",
       "      <td>HR</td>\n",
       "      <td>M</td>\n",
       "    </tr>\n",
       "    <tr>\n",
       "      <th>5</th>\n",
       "      <td>Amy</td>\n",
       "      <td></td>\n",
       "      <td>5000.0</td>\n",
       "      <td>02-30-2010</td>\n",
       "      <td>NaN</td>\n",
       "      <td>F</td>\n",
       "    </tr>\n",
       "  </tbody>\n",
       "</table>\n",
       "</div>"
      ],
      "text/plain": [
       "         Name          Age  Salary  Start date Department Gender\n",
       "0    John Doe           30  3000.0  01-01-2010      Sales      M\n",
       "1  Jane Smith  Twenty five  2000.0    20110607  Marketing      F\n",
       "2         NaN           55     NaN   6/15/2009  Marketing      F\n",
       "3  Mike Brown      Invalid  4000.0  2014/05/04         HR    NaN\n",
       "4         NaN           23     NaN         NaN         HR      M\n",
       "5        Amy                5000.0  02-30-2010        NaN      F"
      ]
     },
     "execution_count": 11,
     "metadata": {},
     "output_type": "execute_result"
    }
   ],
   "source": [
    "df"
   ]
  },
  {
   "cell_type": "markdown",
   "id": "5fcfdee3",
   "metadata": {
    "id": "5fcfdee3"
   },
   "source": [
    "# One Hot Encoding (Dummy Variables)"
   ]
  },
  {
   "cell_type": "code",
   "execution_count": 11,
   "id": "fef04fba",
   "metadata": {
    "executionInfo": {
     "elapsed": 604,
     "status": "ok",
     "timestamp": 1719030628847,
     "user": {
      "displayName": "Mirado Rafenomahenintsoa",
      "userId": "09956159218912987663"
     },
     "user_tz": -180
    },
    "id": "fef04fba"
   },
   "outputs": [],
   "source": [
    "# Get one-hot encoding of 'Department'\n",
    "one_hot = pd.get_dummies(df['Department'])\n"
   ]
  },
  {
   "cell_type": "code",
   "execution_count": 12,
   "id": "2cd4ab2e",
   "metadata": {
    "executionInfo": {
     "elapsed": 11,
     "status": "ok",
     "timestamp": 1719030630896,
     "user": {
      "displayName": "Mirado Rafenomahenintsoa",
      "userId": "09956159218912987663"
     },
     "user_tz": -180
    },
    "id": "2cd4ab2e"
   },
   "outputs": [],
   "source": [
    "\n",
    "# Drop 'Department' column as it is now encoded\n",
    "df = df.drop('Department', axis=1)"
   ]
  },
  {
   "cell_type": "code",
   "execution_count": 13,
   "id": "43b01d0c",
   "metadata": {
    "executionInfo": {
     "elapsed": 8,
     "status": "ok",
     "timestamp": 1719030632635,
     "user": {
      "displayName": "Mirado Rafenomahenintsoa",
      "userId": "09956159218912987663"
     },
     "user_tz": -180
    },
    "id": "43b01d0c"
   },
   "outputs": [],
   "source": [
    "\n",
    "# Join the encoded df\n",
    "df = df.join(one_hot)"
   ]
  },
  {
   "cell_type": "code",
   "execution_count": null,
   "id": "9e2a10d5",
   "metadata": {
    "id": "9e2a10d5",
    "outputId": "e6a6768f-7440-42b4-bb58-38f0209a07ec"
   },
   "outputs": [
    {
     "data": {
      "text/html": [
       "<div>\n",
       "<style scoped>\n",
       "    .dataframe tbody tr th:only-of-type {\n",
       "        vertical-align: middle;\n",
       "    }\n",
       "\n",
       "    .dataframe tbody tr th {\n",
       "        vertical-align: top;\n",
       "    }\n",
       "\n",
       "    .dataframe thead th {\n",
       "        text-align: right;\n",
       "    }\n",
       "</style>\n",
       "<table border=\"1\" class=\"dataframe\">\n",
       "  <thead>\n",
       "    <tr style=\"text-align: right;\">\n",
       "      <th></th>\n",
       "      <th>Name</th>\n",
       "      <th>Age</th>\n",
       "      <th>Salary</th>\n",
       "      <th>Start date</th>\n",
       "      <th>Gender</th>\n",
       "      <th>Marketing</th>\n",
       "      <th>Sales</th>\n",
       "    </tr>\n",
       "  </thead>\n",
       "  <tbody>\n",
       "    <tr>\n",
       "      <th>0</th>\n",
       "      <td>John Doe</td>\n",
       "      <td>30.0</td>\n",
       "      <td>3000.0</td>\n",
       "      <td>2010-01-01</td>\n",
       "      <td>Male</td>\n",
       "      <td>0</td>\n",
       "      <td>1</td>\n",
       "    </tr>\n",
       "    <tr>\n",
       "      <th>1</th>\n",
       "      <td>Jane Smith</td>\n",
       "      <td>36.0</td>\n",
       "      <td>2000.0</td>\n",
       "      <td>2011-06-07</td>\n",
       "      <td>Female</td>\n",
       "      <td>1</td>\n",
       "      <td>0</td>\n",
       "    </tr>\n",
       "    <tr>\n",
       "      <th>2</th>\n",
       "      <td>Unknown</td>\n",
       "      <td>55.0</td>\n",
       "      <td>NaN</td>\n",
       "      <td>2009-06-15</td>\n",
       "      <td>Female</td>\n",
       "      <td>1</td>\n",
       "      <td>0</td>\n",
       "    </tr>\n",
       "  </tbody>\n",
       "</table>\n",
       "</div>"
      ],
      "text/plain": [
       "         Name   Age  Salary Start date  Gender  Marketing  Sales\n",
       "0    John Doe  30.0  3000.0 2010-01-01    Male          0      1\n",
       "1  Jane Smith  36.0  2000.0 2011-06-07  Female          1      0\n",
       "2     Unknown  55.0     NaN 2009-06-15  Female          1      0"
      ]
     },
     "execution_count": 14,
     "metadata": {},
     "output_type": "execute_result"
    }
   ],
   "source": [
    "df"
   ]
  },
  {
   "cell_type": "markdown",
   "id": "b8ca8af2",
   "metadata": {
    "id": "b8ca8af2"
   },
   "source": [
    "# Data Transformation"
   ]
  },
  {
   "cell_type": "code",
   "execution_count": 1,
   "id": "485f6fe2",
   "metadata": {
    "id": "485f6fe2",
    "outputId": "80dbeb18-46c5-4b1e-b0da-9f2c77b9a762"
   },
   "outputs": [
    {
     "ename": "NameError",
     "evalue": "name 'pd' is not defined",
     "output_type": "error",
     "traceback": [
      "\u001b[0;31m---------------------------------------------------------------------------\u001b[0m",
      "\u001b[0;31mNameError\u001b[0m                                 Traceback (most recent call last)",
      "Cell \u001b[0;32mIn[1], line 2\u001b[0m\n\u001b[1;32m      1\u001b[0m \u001b[38;5;66;03m# Create a new column 'Seniority' based on 'Start date'\u001b[39;00m\n\u001b[0;32m----> 2\u001b[0m df[\u001b[38;5;124m'\u001b[39m\u001b[38;5;124mSeniority\u001b[39m\u001b[38;5;124m'\u001b[39m] \u001b[38;5;241m=\u001b[39m \u001b[43mpd\u001b[49m\u001b[38;5;241m.\u001b[39mdatetime\u001b[38;5;241m.\u001b[39mnow()\u001b[38;5;241m.\u001b[39myear \u001b[38;5;241m-\u001b[39m df[\u001b[38;5;124m'\u001b[39m\u001b[38;5;124mStart date\u001b[39m\u001b[38;5;124m'\u001b[39m]\u001b[38;5;241m.\u001b[39mdt\u001b[38;5;241m.\u001b[39myear\n",
      "\u001b[0;31mNameError\u001b[0m: name 'pd' is not defined"
     ]
    }
   ],
   "source": [
    "# Create a new column 'Seniority' based on 'Start date'\n",
    "df['Seniority'] = pd.datetime.now().year - df['Start date'].dt.year"
   ]
  },
  {
   "cell_type": "code",
   "execution_count": 14,
   "id": "a814fbad",
   "metadata": {
    "id": "a814fbad"
   },
   "outputs": [
    {
     "data": {
      "text/html": [
       "<div>\n",
       "<style scoped>\n",
       "    .dataframe tbody tr th:only-of-type {\n",
       "        vertical-align: middle;\n",
       "    }\n",
       "\n",
       "    .dataframe tbody tr th {\n",
       "        vertical-align: top;\n",
       "    }\n",
       "\n",
       "    .dataframe thead th {\n",
       "        text-align: right;\n",
       "    }\n",
       "</style>\n",
       "<table border=\"1\" class=\"dataframe\">\n",
       "  <thead>\n",
       "    <tr style=\"text-align: right;\">\n",
       "      <th></th>\n",
       "      <th>Name</th>\n",
       "      <th>Age</th>\n",
       "      <th>Salary</th>\n",
       "      <th>Start date</th>\n",
       "      <th>Department</th>\n",
       "      <th>Gender</th>\n",
       "    </tr>\n",
       "  </thead>\n",
       "  <tbody>\n",
       "    <tr>\n",
       "      <th>0</th>\n",
       "      <td>John Doe</td>\n",
       "      <td>30</td>\n",
       "      <td>3000.0</td>\n",
       "      <td>01-01-2010</td>\n",
       "      <td>Sales</td>\n",
       "      <td>M</td>\n",
       "    </tr>\n",
       "    <tr>\n",
       "      <th>1</th>\n",
       "      <td>Jane Smith</td>\n",
       "      <td>Twenty five</td>\n",
       "      <td>2000.0</td>\n",
       "      <td>20110607</td>\n",
       "      <td>Marketing</td>\n",
       "      <td>F</td>\n",
       "    </tr>\n",
       "    <tr>\n",
       "      <th>2</th>\n",
       "      <td>NaN</td>\n",
       "      <td>55</td>\n",
       "      <td>NaN</td>\n",
       "      <td>6/15/2009</td>\n",
       "      <td>Marketing</td>\n",
       "      <td>F</td>\n",
       "    </tr>\n",
       "    <tr>\n",
       "      <th>3</th>\n",
       "      <td>Mike Brown</td>\n",
       "      <td>Invalid</td>\n",
       "      <td>4000.0</td>\n",
       "      <td>2014/05/04</td>\n",
       "      <td>HR</td>\n",
       "      <td>NaN</td>\n",
       "    </tr>\n",
       "    <tr>\n",
       "      <th>4</th>\n",
       "      <td>NaN</td>\n",
       "      <td>23</td>\n",
       "      <td>NaN</td>\n",
       "      <td>NaN</td>\n",
       "      <td>HR</td>\n",
       "      <td>M</td>\n",
       "    </tr>\n",
       "    <tr>\n",
       "      <th>5</th>\n",
       "      <td>Amy</td>\n",
       "      <td></td>\n",
       "      <td>5000.0</td>\n",
       "      <td>02-30-2010</td>\n",
       "      <td>NaN</td>\n",
       "      <td>F</td>\n",
       "    </tr>\n",
       "  </tbody>\n",
       "</table>\n",
       "</div>"
      ],
      "text/plain": [
       "         Name          Age  Salary  Start date Department Gender\n",
       "0    John Doe           30  3000.0  01-01-2010      Sales      M\n",
       "1  Jane Smith  Twenty five  2000.0    20110607  Marketing      F\n",
       "2         NaN           55     NaN   6/15/2009  Marketing      F\n",
       "3  Mike Brown      Invalid  4000.0  2014/05/04         HR    NaN\n",
       "4         NaN           23     NaN         NaN         HR      M\n",
       "5        Amy                5000.0  02-30-2010        NaN      F"
      ]
     },
     "execution_count": 14,
     "metadata": {},
     "output_type": "execute_result"
    }
   ],
   "source": [
    "df"
   ]
  },
  {
   "cell_type": "markdown",
   "id": "38c02554",
   "metadata": {
    "id": "38c02554"
   },
   "source": [
    "# Normalization"
   ]
  },
  {
   "cell_type": "code",
   "execution_count": null,
   "id": "364f749c",
   "metadata": {
    "id": "364f749c"
   },
   "outputs": [],
   "source": [
    "# Normalize 'Salary' column (min-max normalization)\n",
    "df['Salary'] = (df['Salary'] - df['Salary'].min()) / (df['Salary'].max() - df['Salary'].min())"
   ]
  },
  {
   "cell_type": "code",
   "execution_count": 16,
   "id": "82770b93",
   "metadata": {
    "id": "82770b93"
   },
   "outputs": [
    {
     "data": {
      "text/html": [
       "<div>\n",
       "<style scoped>\n",
       "    .dataframe tbody tr th:only-of-type {\n",
       "        vertical-align: middle;\n",
       "    }\n",
       "\n",
       "    .dataframe tbody tr th {\n",
       "        vertical-align: top;\n",
       "    }\n",
       "\n",
       "    .dataframe thead th {\n",
       "        text-align: right;\n",
       "    }\n",
       "</style>\n",
       "<table border=\"1\" class=\"dataframe\">\n",
       "  <thead>\n",
       "    <tr style=\"text-align: right;\">\n",
       "      <th></th>\n",
       "      <th>Name</th>\n",
       "      <th>Age</th>\n",
       "      <th>Salary</th>\n",
       "      <th>Start date</th>\n",
       "      <th>Department</th>\n",
       "      <th>Gender</th>\n",
       "    </tr>\n",
       "  </thead>\n",
       "  <tbody>\n",
       "    <tr>\n",
       "      <th>0</th>\n",
       "      <td>John Doe</td>\n",
       "      <td>30</td>\n",
       "      <td>3000.0</td>\n",
       "      <td>01-01-2010</td>\n",
       "      <td>Sales</td>\n",
       "      <td>M</td>\n",
       "    </tr>\n",
       "    <tr>\n",
       "      <th>1</th>\n",
       "      <td>Jane Smith</td>\n",
       "      <td>Twenty five</td>\n",
       "      <td>2000.0</td>\n",
       "      <td>20110607</td>\n",
       "      <td>Marketing</td>\n",
       "      <td>F</td>\n",
       "    </tr>\n",
       "    <tr>\n",
       "      <th>2</th>\n",
       "      <td>NaN</td>\n",
       "      <td>55</td>\n",
       "      <td>NaN</td>\n",
       "      <td>6/15/2009</td>\n",
       "      <td>Marketing</td>\n",
       "      <td>F</td>\n",
       "    </tr>\n",
       "    <tr>\n",
       "      <th>3</th>\n",
       "      <td>Mike Brown</td>\n",
       "      <td>Invalid</td>\n",
       "      <td>4000.0</td>\n",
       "      <td>2014/05/04</td>\n",
       "      <td>HR</td>\n",
       "      <td>NaN</td>\n",
       "    </tr>\n",
       "    <tr>\n",
       "      <th>4</th>\n",
       "      <td>NaN</td>\n",
       "      <td>23</td>\n",
       "      <td>NaN</td>\n",
       "      <td>NaN</td>\n",
       "      <td>HR</td>\n",
       "      <td>M</td>\n",
       "    </tr>\n",
       "    <tr>\n",
       "      <th>5</th>\n",
       "      <td>Amy</td>\n",
       "      <td></td>\n",
       "      <td>5000.0</td>\n",
       "      <td>02-30-2010</td>\n",
       "      <td>NaN</td>\n",
       "      <td>F</td>\n",
       "    </tr>\n",
       "  </tbody>\n",
       "</table>\n",
       "</div>"
      ],
      "text/plain": [
       "         Name          Age  Salary  Start date Department Gender\n",
       "0    John Doe           30  3000.0  01-01-2010      Sales      M\n",
       "1  Jane Smith  Twenty five  2000.0    20110607  Marketing      F\n",
       "2         NaN           55     NaN   6/15/2009  Marketing      F\n",
       "3  Mike Brown      Invalid  4000.0  2014/05/04         HR    NaN\n",
       "4         NaN           23     NaN         NaN         HR      M\n",
       "5        Amy                5000.0  02-30-2010        NaN      F"
      ]
     },
     "execution_count": 16,
     "metadata": {},
     "output_type": "execute_result"
    }
   ],
   "source": [
    "df"
   ]
  },
  {
   "cell_type": "markdown",
   "id": "688145a0",
   "metadata": {
    "id": "688145a0"
   },
   "source": [
    "# Date Transformations"
   ]
  },
  {
   "cell_type": "markdown",
   "id": "b59482c3",
   "metadata": {
    "id": "b59482c3"
   },
   "source": [
    "**Extracting Parts of a Date:** You might want to extract the year, month, day, day of the week, etc., from a date column."
   ]
  },
  {
   "cell_type": "code",
   "execution_count": null,
   "id": "9578658b",
   "metadata": {
    "id": "9578658b"
   },
   "outputs": [],
   "source": [
    "# Extract the year from 'Start date'\n",
    "df['Start Year'] = df['Start date'].dt.year\n",
    "\n",
    "# Extract the month from 'Start date'\n",
    "df['Start Month'] = df['Start date'].dt.month\n",
    "\n",
    "# Extract the day of the week from 'Start date' (0 is Monday and 6 is Sunday)\n",
    "df['Start Day of Week'] = df['Start date'].dt.dayofweek"
   ]
  },
  {
   "cell_type": "code",
   "execution_count": null,
   "id": "2fb91b52",
   "metadata": {
    "id": "2fb91b52",
    "outputId": "490a8e4e-321e-4f8b-ff5d-942244a4c32b"
   },
   "outputs": [
    {
     "data": {
      "text/html": [
       "<div>\n",
       "<style scoped>\n",
       "    .dataframe tbody tr th:only-of-type {\n",
       "        vertical-align: middle;\n",
       "    }\n",
       "\n",
       "    .dataframe tbody tr th {\n",
       "        vertical-align: top;\n",
       "    }\n",
       "\n",
       "    .dataframe thead th {\n",
       "        text-align: right;\n",
       "    }\n",
       "</style>\n",
       "<table border=\"1\" class=\"dataframe\">\n",
       "  <thead>\n",
       "    <tr style=\"text-align: right;\">\n",
       "      <th></th>\n",
       "      <th>Name</th>\n",
       "      <th>Age</th>\n",
       "      <th>Salary</th>\n",
       "      <th>Start date</th>\n",
       "      <th>Gender</th>\n",
       "      <th>Marketing</th>\n",
       "      <th>Sales</th>\n",
       "      <th>Seniority</th>\n",
       "      <th>Start Year</th>\n",
       "      <th>Start Month</th>\n",
       "      <th>Start Day of Week</th>\n",
       "    </tr>\n",
       "  </thead>\n",
       "  <tbody>\n",
       "    <tr>\n",
       "      <th>0</th>\n",
       "      <td>John Doe</td>\n",
       "      <td>30.0</td>\n",
       "      <td>1.0</td>\n",
       "      <td>2010-01-01</td>\n",
       "      <td>Male</td>\n",
       "      <td>0</td>\n",
       "      <td>1</td>\n",
       "      <td>13</td>\n",
       "      <td>2010</td>\n",
       "      <td>1</td>\n",
       "      <td>4</td>\n",
       "    </tr>\n",
       "    <tr>\n",
       "      <th>1</th>\n",
       "      <td>Jane Smith</td>\n",
       "      <td>36.0</td>\n",
       "      <td>0.0</td>\n",
       "      <td>2011-06-07</td>\n",
       "      <td>Female</td>\n",
       "      <td>1</td>\n",
       "      <td>0</td>\n",
       "      <td>12</td>\n",
       "      <td>2011</td>\n",
       "      <td>6</td>\n",
       "      <td>1</td>\n",
       "    </tr>\n",
       "    <tr>\n",
       "      <th>2</th>\n",
       "      <td>Unknown</td>\n",
       "      <td>55.0</td>\n",
       "      <td>NaN</td>\n",
       "      <td>2009-06-15</td>\n",
       "      <td>Female</td>\n",
       "      <td>1</td>\n",
       "      <td>0</td>\n",
       "      <td>14</td>\n",
       "      <td>2009</td>\n",
       "      <td>6</td>\n",
       "      <td>0</td>\n",
       "    </tr>\n",
       "  </tbody>\n",
       "</table>\n",
       "</div>"
      ],
      "text/plain": [
       "         Name   Age  Salary Start date  Gender  Marketing  Sales  Seniority  \\\n",
       "0    John Doe  30.0     1.0 2010-01-01    Male          0      1         13   \n",
       "1  Jane Smith  36.0     0.0 2011-06-07  Female          1      0         12   \n",
       "2     Unknown  55.0     NaN 2009-06-15  Female          1      0         14   \n",
       "\n",
       "   Start Year  Start Month  Start Day of Week  \n",
       "0        2010            1                  4  \n",
       "1        2011            6                  1  \n",
       "2        2009            6                  0  "
      ]
     },
     "execution_count": 22,
     "metadata": {},
     "output_type": "execute_result"
    }
   ],
   "source": [
    "df"
   ]
  },
  {
   "cell_type": "markdown",
   "id": "c9962a3c",
   "metadata": {
    "id": "c9962a3c"
   },
   "source": [
    "**Creating Boolean Flags:** You might want to create flags indicating whether a certain condition is met. For example, you could create a flag for whether the start date is on a weekend."
   ]
  },
  {
   "cell_type": "code",
   "execution_count": null,
   "id": "76f3dca3",
   "metadata": {
    "id": "76f3dca3"
   },
   "outputs": [],
   "source": [
    "# Create a boolean flag for whether the start date is on a weekend\n",
    "df['Starts on Weekend'] = df['Start Day of Week'].isin([5, 6])\n"
   ]
  },
  {
   "cell_type": "code",
   "execution_count": 17,
   "id": "1646bb86-6e1e-4fdf-b892-18ab32dd1b1a",
   "metadata": {},
   "outputs": [
    {
     "data": {
      "text/html": [
       "<div>\n",
       "<style scoped>\n",
       "    .dataframe tbody tr th:only-of-type {\n",
       "        vertical-align: middle;\n",
       "    }\n",
       "\n",
       "    .dataframe tbody tr th {\n",
       "        vertical-align: top;\n",
       "    }\n",
       "\n",
       "    .dataframe thead th {\n",
       "        text-align: right;\n",
       "    }\n",
       "</style>\n",
       "<table border=\"1\" class=\"dataframe\">\n",
       "  <thead>\n",
       "    <tr style=\"text-align: right;\">\n",
       "      <th></th>\n",
       "      <th>Name</th>\n",
       "      <th>Age</th>\n",
       "      <th>Salary</th>\n",
       "      <th>Start date</th>\n",
       "      <th>Department</th>\n",
       "      <th>Gender</th>\n",
       "    </tr>\n",
       "  </thead>\n",
       "  <tbody>\n",
       "    <tr>\n",
       "      <th>0</th>\n",
       "      <td>John Doe</td>\n",
       "      <td>30</td>\n",
       "      <td>3000.0</td>\n",
       "      <td>01-01-2010</td>\n",
       "      <td>Sales</td>\n",
       "      <td>M</td>\n",
       "    </tr>\n",
       "    <tr>\n",
       "      <th>1</th>\n",
       "      <td>Jane Smith</td>\n",
       "      <td>Twenty five</td>\n",
       "      <td>2000.0</td>\n",
       "      <td>20110607</td>\n",
       "      <td>Marketing</td>\n",
       "      <td>F</td>\n",
       "    </tr>\n",
       "    <tr>\n",
       "      <th>2</th>\n",
       "      <td>NaN</td>\n",
       "      <td>55</td>\n",
       "      <td>NaN</td>\n",
       "      <td>6/15/2009</td>\n",
       "      <td>Marketing</td>\n",
       "      <td>F</td>\n",
       "    </tr>\n",
       "    <tr>\n",
       "      <th>3</th>\n",
       "      <td>Mike Brown</td>\n",
       "      <td>Invalid</td>\n",
       "      <td>4000.0</td>\n",
       "      <td>2014/05/04</td>\n",
       "      <td>HR</td>\n",
       "      <td>NaN</td>\n",
       "    </tr>\n",
       "    <tr>\n",
       "      <th>4</th>\n",
       "      <td>NaN</td>\n",
       "      <td>23</td>\n",
       "      <td>NaN</td>\n",
       "      <td>NaN</td>\n",
       "      <td>HR</td>\n",
       "      <td>M</td>\n",
       "    </tr>\n",
       "    <tr>\n",
       "      <th>5</th>\n",
       "      <td>Amy</td>\n",
       "      <td></td>\n",
       "      <td>5000.0</td>\n",
       "      <td>02-30-2010</td>\n",
       "      <td>NaN</td>\n",
       "      <td>F</td>\n",
       "    </tr>\n",
       "  </tbody>\n",
       "</table>\n",
       "</div>"
      ],
      "text/plain": [
       "         Name          Age  Salary  Start date Department Gender\n",
       "0    John Doe           30  3000.0  01-01-2010      Sales      M\n",
       "1  Jane Smith  Twenty five  2000.0    20110607  Marketing      F\n",
       "2         NaN           55     NaN   6/15/2009  Marketing      F\n",
       "3  Mike Brown      Invalid  4000.0  2014/05/04         HR    NaN\n",
       "4         NaN           23     NaN         NaN         HR      M\n",
       "5        Amy                5000.0  02-30-2010        NaN      F"
      ]
     },
     "execution_count": 17,
     "metadata": {},
     "output_type": "execute_result"
    }
   ],
   "source": [
    "df"
   ]
  },
  {
   "cell_type": "markdown",
   "id": "321359b6",
   "metadata": {
    "id": "321359b6"
   },
   "source": [
    "**Converting Timezones:** If your dates are in a specific timezone, you might need to convert them to another timezone."
   ]
  },
  {
   "cell_type": "code",
   "execution_count": null,
   "id": "6d027dd6",
   "metadata": {
    "id": "6d027dd6"
   },
   "outputs": [],
   "source": [
    "# Assume 'Start date' is in UTC and convert to US Eastern Time\n",
    "# Localize the 'Start date' column to UTC\n",
    "df['Start date'] = df['Start date'].dt.tz_localize('UTC')\n",
    "\n",
    "df['Start date'] = df['Start date'].dt.tz_convert('US/Eastern')"
   ]
  },
  {
   "cell_type": "code",
   "execution_count": null,
   "id": "8d7e430a",
   "metadata": {
    "id": "8d7e430a"
   },
   "outputs": [],
   "source": [
    "df"
   ]
  },
  {
   "cell_type": "markdown",
   "id": "96be640e",
   "metadata": {
    "id": "96be640e"
   },
   "source": [
    "**Calculating Time Since:** You might want to calculate the number of days, months, or years since a certain date."
   ]
  },
  {
   "cell_type": "code",
   "execution_count": null,
   "id": "975ef13b",
   "metadata": {
    "id": "975ef13b"
   },
   "outputs": [],
   "source": [
    "# Calculate the number of days since 'Start date'\n",
    "df['Days Since Start'] = (pd.to_datetime('today').tz_localize('US/Eastern') - df['Start date']).dt.days"
   ]
  },
  {
   "cell_type": "code",
   "execution_count": null,
   "id": "90f92a88",
   "metadata": {
    "id": "90f92a88"
   },
   "outputs": [],
   "source": [
    "df"
   ]
  },
  {
   "cell_type": "markdown",
   "id": "1fd14e0e",
   "metadata": {
    "id": "1fd14e0e"
   },
   "source": [
    "**Date Binning:** You can group dates into bins such as quarters of a year or parts of a day.\n"
   ]
  },
  {
   "cell_type": "code",
   "execution_count": 18,
   "id": "6fd05712",
   "metadata": {
    "id": "6fd05712",
    "outputId": "bed0fdb2-4b1d-4b40-e552-175aab8d7dc7"
   },
   "outputs": [
    {
     "ename": "AttributeError",
     "evalue": "Can only use .dt accessor with datetimelike values",
     "output_type": "error",
     "traceback": [
      "\u001b[0;31m---------------------------------------------------------------------------\u001b[0m",
      "\u001b[0;31mAttributeError\u001b[0m                            Traceback (most recent call last)",
      "Cell \u001b[0;32mIn[18], line 2\u001b[0m\n\u001b[1;32m      1\u001b[0m \u001b[38;5;66;03m# Bin 'Start date' into quarters\u001b[39;00m\n\u001b[0;32m----> 2\u001b[0m df[\u001b[38;5;124m'\u001b[39m\u001b[38;5;124mStart Quarter\u001b[39m\u001b[38;5;124m'\u001b[39m] \u001b[38;5;241m=\u001b[39m \u001b[43mdf\u001b[49m\u001b[43m[\u001b[49m\u001b[38;5;124;43m'\u001b[39;49m\u001b[38;5;124;43mStart date\u001b[39;49m\u001b[38;5;124;43m'\u001b[39;49m\u001b[43m]\u001b[49m\u001b[38;5;241;43m.\u001b[39;49m\u001b[43mdt\u001b[49m\u001b[38;5;241m.\u001b[39mto_period(\u001b[38;5;124m'\u001b[39m\u001b[38;5;124mQ\u001b[39m\u001b[38;5;124m'\u001b[39m)\n",
      "File \u001b[0;32m~/.local/lib/python3.12/site-packages/pandas/core/generic.py:6299\u001b[0m, in \u001b[0;36mNDFrame.__getattr__\u001b[0;34m(self, name)\u001b[0m\n\u001b[1;32m   6292\u001b[0m \u001b[38;5;28;01mif\u001b[39;00m (\n\u001b[1;32m   6293\u001b[0m     name \u001b[38;5;129;01mnot\u001b[39;00m \u001b[38;5;129;01min\u001b[39;00m \u001b[38;5;28mself\u001b[39m\u001b[38;5;241m.\u001b[39m_internal_names_set\n\u001b[1;32m   6294\u001b[0m     \u001b[38;5;129;01mand\u001b[39;00m name \u001b[38;5;129;01mnot\u001b[39;00m \u001b[38;5;129;01min\u001b[39;00m \u001b[38;5;28mself\u001b[39m\u001b[38;5;241m.\u001b[39m_metadata\n\u001b[1;32m   6295\u001b[0m     \u001b[38;5;129;01mand\u001b[39;00m name \u001b[38;5;129;01mnot\u001b[39;00m \u001b[38;5;129;01min\u001b[39;00m \u001b[38;5;28mself\u001b[39m\u001b[38;5;241m.\u001b[39m_accessors\n\u001b[1;32m   6296\u001b[0m     \u001b[38;5;129;01mand\u001b[39;00m \u001b[38;5;28mself\u001b[39m\u001b[38;5;241m.\u001b[39m_info_axis\u001b[38;5;241m.\u001b[39m_can_hold_identifiers_and_holds_name(name)\n\u001b[1;32m   6297\u001b[0m ):\n\u001b[1;32m   6298\u001b[0m     \u001b[38;5;28;01mreturn\u001b[39;00m \u001b[38;5;28mself\u001b[39m[name]\n\u001b[0;32m-> 6299\u001b[0m \u001b[38;5;28;01mreturn\u001b[39;00m \u001b[38;5;28;43mobject\u001b[39;49m\u001b[38;5;241;43m.\u001b[39;49m\u001b[38;5;21;43m__getattribute__\u001b[39;49m\u001b[43m(\u001b[49m\u001b[38;5;28;43mself\u001b[39;49m\u001b[43m,\u001b[49m\u001b[43m \u001b[49m\u001b[43mname\u001b[49m\u001b[43m)\u001b[49m\n",
      "File \u001b[0;32m~/.local/lib/python3.12/site-packages/pandas/core/accessor.py:224\u001b[0m, in \u001b[0;36mCachedAccessor.__get__\u001b[0;34m(self, obj, cls)\u001b[0m\n\u001b[1;32m    221\u001b[0m \u001b[38;5;28;01mif\u001b[39;00m obj \u001b[38;5;129;01mis\u001b[39;00m \u001b[38;5;28;01mNone\u001b[39;00m:\n\u001b[1;32m    222\u001b[0m     \u001b[38;5;66;03m# we're accessing the attribute of the class, i.e., Dataset.geo\u001b[39;00m\n\u001b[1;32m    223\u001b[0m     \u001b[38;5;28;01mreturn\u001b[39;00m \u001b[38;5;28mself\u001b[39m\u001b[38;5;241m.\u001b[39m_accessor\n\u001b[0;32m--> 224\u001b[0m accessor_obj \u001b[38;5;241m=\u001b[39m \u001b[38;5;28;43mself\u001b[39;49m\u001b[38;5;241;43m.\u001b[39;49m\u001b[43m_accessor\u001b[49m\u001b[43m(\u001b[49m\u001b[43mobj\u001b[49m\u001b[43m)\u001b[49m\n\u001b[1;32m    225\u001b[0m \u001b[38;5;66;03m# Replace the property with the accessor object. Inspired by:\u001b[39;00m\n\u001b[1;32m    226\u001b[0m \u001b[38;5;66;03m# https://www.pydanny.com/cached-property.html\u001b[39;00m\n\u001b[1;32m    227\u001b[0m \u001b[38;5;66;03m# We need to use object.__setattr__ because we overwrite __setattr__ on\u001b[39;00m\n\u001b[1;32m    228\u001b[0m \u001b[38;5;66;03m# NDFrame\u001b[39;00m\n\u001b[1;32m    229\u001b[0m \u001b[38;5;28mobject\u001b[39m\u001b[38;5;241m.\u001b[39m\u001b[38;5;21m__setattr__\u001b[39m(obj, \u001b[38;5;28mself\u001b[39m\u001b[38;5;241m.\u001b[39m_name, accessor_obj)\n",
      "File \u001b[0;32m~/.local/lib/python3.12/site-packages/pandas/core/indexes/accessors.py:643\u001b[0m, in \u001b[0;36mCombinedDatetimelikeProperties.__new__\u001b[0;34m(cls, data)\u001b[0m\n\u001b[1;32m    640\u001b[0m \u001b[38;5;28;01melif\u001b[39;00m \u001b[38;5;28misinstance\u001b[39m(data\u001b[38;5;241m.\u001b[39mdtype, PeriodDtype):\n\u001b[1;32m    641\u001b[0m     \u001b[38;5;28;01mreturn\u001b[39;00m PeriodProperties(data, orig)\n\u001b[0;32m--> 643\u001b[0m \u001b[38;5;28;01mraise\u001b[39;00m \u001b[38;5;167;01mAttributeError\u001b[39;00m(\u001b[38;5;124m\"\u001b[39m\u001b[38;5;124mCan only use .dt accessor with datetimelike values\u001b[39m\u001b[38;5;124m\"\u001b[39m)\n",
      "\u001b[0;31mAttributeError\u001b[0m: Can only use .dt accessor with datetimelike values"
     ]
    }
   ],
   "source": [
    "# Bin 'Start date' into quarters\n",
    "df['Start Quarter'] = df['Start date'].dt.to_period('Q')\n"
   ]
  },
  {
   "cell_type": "code",
   "execution_count": 19,
   "id": "4df9acd0",
   "metadata": {
    "id": "4df9acd0"
   },
   "outputs": [
    {
     "data": {
      "text/html": [
       "<div>\n",
       "<style scoped>\n",
       "    .dataframe tbody tr th:only-of-type {\n",
       "        vertical-align: middle;\n",
       "    }\n",
       "\n",
       "    .dataframe tbody tr th {\n",
       "        vertical-align: top;\n",
       "    }\n",
       "\n",
       "    .dataframe thead th {\n",
       "        text-align: right;\n",
       "    }\n",
       "</style>\n",
       "<table border=\"1\" class=\"dataframe\">\n",
       "  <thead>\n",
       "    <tr style=\"text-align: right;\">\n",
       "      <th></th>\n",
       "      <th>Name</th>\n",
       "      <th>Age</th>\n",
       "      <th>Salary</th>\n",
       "      <th>Start date</th>\n",
       "      <th>Department</th>\n",
       "      <th>Gender</th>\n",
       "    </tr>\n",
       "  </thead>\n",
       "  <tbody>\n",
       "    <tr>\n",
       "      <th>0</th>\n",
       "      <td>John Doe</td>\n",
       "      <td>30</td>\n",
       "      <td>3000.0</td>\n",
       "      <td>01-01-2010</td>\n",
       "      <td>Sales</td>\n",
       "      <td>M</td>\n",
       "    </tr>\n",
       "    <tr>\n",
       "      <th>1</th>\n",
       "      <td>Jane Smith</td>\n",
       "      <td>Twenty five</td>\n",
       "      <td>2000.0</td>\n",
       "      <td>20110607</td>\n",
       "      <td>Marketing</td>\n",
       "      <td>F</td>\n",
       "    </tr>\n",
       "    <tr>\n",
       "      <th>2</th>\n",
       "      <td>NaN</td>\n",
       "      <td>55</td>\n",
       "      <td>NaN</td>\n",
       "      <td>6/15/2009</td>\n",
       "      <td>Marketing</td>\n",
       "      <td>F</td>\n",
       "    </tr>\n",
       "    <tr>\n",
       "      <th>3</th>\n",
       "      <td>Mike Brown</td>\n",
       "      <td>Invalid</td>\n",
       "      <td>4000.0</td>\n",
       "      <td>2014/05/04</td>\n",
       "      <td>HR</td>\n",
       "      <td>NaN</td>\n",
       "    </tr>\n",
       "    <tr>\n",
       "      <th>4</th>\n",
       "      <td>NaN</td>\n",
       "      <td>23</td>\n",
       "      <td>NaN</td>\n",
       "      <td>NaN</td>\n",
       "      <td>HR</td>\n",
       "      <td>M</td>\n",
       "    </tr>\n",
       "    <tr>\n",
       "      <th>5</th>\n",
       "      <td>Amy</td>\n",
       "      <td></td>\n",
       "      <td>5000.0</td>\n",
       "      <td>02-30-2010</td>\n",
       "      <td>NaN</td>\n",
       "      <td>F</td>\n",
       "    </tr>\n",
       "  </tbody>\n",
       "</table>\n",
       "</div>"
      ],
      "text/plain": [
       "         Name          Age  Salary  Start date Department Gender\n",
       "0    John Doe           30  3000.0  01-01-2010      Sales      M\n",
       "1  Jane Smith  Twenty five  2000.0    20110607  Marketing      F\n",
       "2         NaN           55     NaN   6/15/2009  Marketing      F\n",
       "3  Mike Brown      Invalid  4000.0  2014/05/04         HR    NaN\n",
       "4         NaN           23     NaN         NaN         HR      M\n",
       "5        Amy                5000.0  02-30-2010        NaN      F"
      ]
     },
     "execution_count": 19,
     "metadata": {},
     "output_type": "execute_result"
    }
   ],
   "source": [
    "df"
   ]
  },
  {
   "cell_type": "code",
   "execution_count": null,
   "id": "12f6bfb6",
   "metadata": {
    "id": "12f6bfb6"
   },
   "outputs": [],
   "source": []
  }
 ],
 "metadata": {
  "colab": {
   "provenance": []
  },
  "kernelspec": {
   "display_name": "Python 3 (ipykernel)",
   "language": "python",
   "name": "python3"
  },
  "language_info": {
   "codemirror_mode": {
    "name": "ipython",
    "version": 3
   },
   "file_extension": ".py",
   "mimetype": "text/x-python",
   "name": "python",
   "nbconvert_exporter": "python",
   "pygments_lexer": "ipython3",
   "version": "3.12.3"
  }
 },
 "nbformat": 4,
 "nbformat_minor": 5
}
