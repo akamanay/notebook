{
 "cells": [
  {
   "cell_type": "markdown",
   "id": "7dffdaa4",
   "metadata": {
    "id": "7dffdaa4"
   },
   "source": [
    "## REST API Example"
   ]
  },
  {
   "cell_type": "markdown",
   "id": "a7ba1764",
   "metadata": {
    "id": "a7ba1764"
   },
   "source": [
    "First, we will use the requests library to extract data from a public REST API. For this example, let's use the JSONPlaceholder API, a simple fake REST API for testing and prototyping."
   ]
  },
  {
   "cell_type": "code",
   "execution_count": null,
   "id": "a73a1559",
   "metadata": {
    "colab": {
     "base_uri": "https://localhost:8080/"
    },
    "executionInfo": {
     "elapsed": 1502,
     "status": "ok",
     "timestamp": 1688545213817,
     "user": {
      "displayName": "Mirado RAFENOMAHENINTSOA",
      "userId": "05076099065797797424"
     },
     "user_tz": -180
    },
    "id": "a73a1559",
    "outputId": "b2cfdbec-89e6-4f4b-957e-bb6ff400bdb0"
   },
   "outputs": [
    {
     "name": "stdout",
     "output_type": "stream",
     "text": [
      "{\n",
      "    \"userId\": 1,\n",
      "    \"id\": 1,\n",
      "    \"title\": \"sunt aut facere repellat provident occaecati excepturi optio reprehenderit\",\n",
      "    \"body\": \"quia et suscipit\\nsuscipit recusandae consequuntur expedita et cum\\nreprehenderit molestiae ut ut quas totam\\nnostrum rerum est autem sunt rem eveniet architecto\"\n",
      "}\n"
     ]
    }
   ],
   "source": [
    "import requests\n",
    "import json\n",
    "\n",
    "response = requests.get('https://jsonplaceholder.typicode.com/posts')\n",
    "posts = response.json()\n",
    "\n",
    "# Print the first post\n",
    "print(json.dumps(posts[0], indent=4))\n"
   ]
  },
  {
   "cell_type": "markdown",
   "id": "ae605694",
   "metadata": {
    "id": "ae605694"
   },
   "source": [
    "This code sends a GET request to the API and stores the response (which is in JSON format) in a list of dictionaries. The json.dumps() function is then used to print the first post in a nicely formatted manner."
   ]
  },
  {
   "cell_type": "markdown",
   "id": "09e5b411",
   "metadata": {
    "id": "09e5b411"
   },
   "source": [
    "For more complex APIs, you may need to handle things like pagination, API keys, or query parameters. For example, let's extract data from a REST API with pagination:"
   ]
  },
  {
   "cell_type": "code",
   "execution_count": null,
   "id": "742684cd",
   "metadata": {
    "colab": {
     "base_uri": "https://localhost:8080/"
    },
    "executionInfo": {
     "elapsed": 1022,
     "status": "ok",
     "timestamp": 1688545223318,
     "user": {
      "displayName": "Mirado RAFENOMAHENINTSOA",
      "userId": "05076099065797797424"
     },
     "user_tz": -180
    },
    "id": "742684cd",
    "outputId": "d96995fd-5d79-417e-e320-ac713e63c9a4"
   },
   "outputs": [
    {
     "name": "stdout",
     "output_type": "stream",
     "text": [
      "Fetched 50 posts\n"
     ]
    }
   ],
   "source": [
    "import requests\n",
    "\n",
    "# A list to store all the posts\n",
    "all_posts = []\n",
    "\n",
    "# The base URL of the API\n",
    "base_url = 'https://jsonplaceholder.typicode.com/posts'\n",
    "\n",
    "# The maximum number of posts per page\n",
    "max_posts_per_page = 10\n",
    "\n",
    "# The number of pages to fetch\n",
    "num_pages = 5\n",
    "\n",
    "# For each page\n",
    "for i in range(1, num_pages + 1):\n",
    "    # The URL of the page\n",
    "    url = f'{base_url}?_page={i}&_limit={max_posts_per_page}'\n",
    "\n",
    "    # Send a GET request to the API\n",
    "    response = requests.get(url)\n",
    "\n",
    "    # Parse the response as JSON\n",
    "    posts = response.json()\n",
    "\n",
    "    # Add the posts to the list\n",
    "    all_posts.extend(posts)\n",
    "\n",
    "# Print the number of posts\n",
    "print(f'Fetched {len(all_posts)} posts')\n"
   ]
  },
  {
   "cell_type": "markdown",
   "id": "417d37d1",
   "metadata": {
    "id": "417d37d1"
   },
   "source": [
    "## Database Example"
   ]
  },
  {
   "cell_type": "code",
   "execution_count": null,
   "id": "1ef66f0e",
   "metadata": {
    "colab": {
     "base_uri": "https://localhost:8080/",
     "height": 235
    },
    "executionInfo": {
     "elapsed": 379,
     "status": "error",
     "timestamp": 1688545288389,
     "user": {
      "displayName": "Mirado RAFENOMAHENINTSOA",
      "userId": "05076099065797797424"
     },
     "user_tz": -180
    },
    "id": "1ef66f0e",
    "outputId": "0887af87-29e9-4e2a-d9dd-7f37c9f1760d"
   },
   "outputs": [
    {
     "ename": "OperationalError",
     "evalue": "ignored",
     "output_type": "error",
     "traceback": [
      "\u001b[0;31m---------------------------------------------------------------------------\u001b[0m",
      "\u001b[0;31mOperationalError\u001b[0m                          Traceback (most recent call last)",
      "\u001b[0;32m<ipython-input-5-d7f15feb4352>\u001b[0m in \u001b[0;36m<cell line: 10>\u001b[0;34m()\u001b[0m\n\u001b[1;32m      8\u001b[0m \u001b[0;34m\u001b[0m\u001b[0m\n\u001b[1;32m      9\u001b[0m \u001b[0;31m# Execute a query\u001b[0m\u001b[0;34m\u001b[0m\u001b[0;34m\u001b[0m\u001b[0m\n\u001b[0;32m---> 10\u001b[0;31m \u001b[0mc\u001b[0m\u001b[0;34m.\u001b[0m\u001b[0mexecute\u001b[0m\u001b[0;34m(\u001b[0m\u001b[0;34m'SELECT * FROM Posts'\u001b[0m\u001b[0;34m)\u001b[0m\u001b[0;34m\u001b[0m\u001b[0;34m\u001b[0m\u001b[0m\n\u001b[0m\u001b[1;32m     11\u001b[0m \u001b[0;34m\u001b[0m\u001b[0m\n\u001b[1;32m     12\u001b[0m \u001b[0;31m# Fetch all rows from the query\u001b[0m\u001b[0;34m\u001b[0m\u001b[0;34m\u001b[0m\u001b[0m\n",
      "\u001b[0;31mOperationalError\u001b[0m: no such table: Posts"
     ]
    }
   ],
   "source": [
    "import sqlite3\n",
    "\n",
    "# Connect to the database\n",
    "conn = sqlite3.connect('example.db')\n",
    "\n",
    "# Create a cursor\n",
    "c = conn.cursor()\n",
    "\n",
    "# Execute a query\n",
    "c.execute('SELECT * FROM Posts')\n",
    "\n",
    "# Fetch all rows from the query\n",
    "rows = c.fetchall()\n",
    "\n",
    "# Print the first row\n",
    "print(rows[0])\n",
    "\n",
    "# Close the connection\n",
    "conn.close()\n"
   ]
  },
  {
   "cell_type": "markdown",
   "id": "1f59f1e3",
   "metadata": {
    "id": "1f59f1e3"
   },
   "source": [
    "Python can interact with a wide variety of databases through different libraries. Here's an example of how to extract data from a PostgreSQL database using psycopg2:"
   ]
  },
  {
   "cell_type": "code",
   "execution_count": 3,
   "id": "57403b35",
   "metadata": {
    "id": "57403b35"
   },
   "outputs": [
    {
     "ename": "ModuleNotFoundError",
     "evalue": "No module named 'psycopg2'",
     "output_type": "error",
     "traceback": [
      "\u001b[0;31m---------------------------------------------------------------------------\u001b[0m",
      "\u001b[0;31mModuleNotFoundError\u001b[0m                       Traceback (most recent call last)",
      "Cell \u001b[0;32mIn[3], line 1\u001b[0m\n\u001b[0;32m----> 1\u001b[0m \u001b[38;5;28;01mimport\u001b[39;00m \u001b[38;5;21;01mpsycopg2\u001b[39;00m\n\u001b[1;32m      3\u001b[0m \u001b[38;5;66;03m# Connect to the database\u001b[39;00m\n\u001b[1;32m      4\u001b[0m conn \u001b[38;5;241m=\u001b[39m psycopg2\u001b[38;5;241m.\u001b[39mconnect(\n\u001b[1;32m      5\u001b[0m     dbname\u001b[38;5;241m=\u001b[39m\u001b[38;5;124m'\u001b[39m\u001b[38;5;124myour_database_name\u001b[39m\u001b[38;5;124m'\u001b[39m,\n\u001b[1;32m      6\u001b[0m     user\u001b[38;5;241m=\u001b[39m\u001b[38;5;124m'\u001b[39m\u001b[38;5;124myour_username\u001b[39m\u001b[38;5;124m'\u001b[39m,\n\u001b[1;32m      7\u001b[0m     password\u001b[38;5;241m=\u001b[39m\u001b[38;5;124m'\u001b[39m\u001b[38;5;124myour_password\u001b[39m\u001b[38;5;124m'\u001b[39m,\n\u001b[1;32m      8\u001b[0m     host\u001b[38;5;241m=\u001b[39m\u001b[38;5;124m'\u001b[39m\u001b[38;5;124mlocalhost\u001b[39m\u001b[38;5;124m'\u001b[39m\n\u001b[1;32m      9\u001b[0m )\n",
      "\u001b[0;31mModuleNotFoundError\u001b[0m: No module named 'psycopg2'"
     ]
    }
   ],
   "source": [
    "import psycopg2\n",
    "\n",
    "# Connect to the database\n",
    "conn = psycopg2.connect(\n",
    "    dbname='your_database_name',\n",
    "    user='your_username',\n",
    "    password='your_password',\n",
    "    host='localhost'\n",
    ")\n",
    "\n",
    "# Create a cursor\n",
    "cur = conn.cursor()\n",
    "\n",
    "# Execute a query\n",
    "cur.execute('SELECT * FROM your_table_name')\n",
    "\n",
    "# Fetch all rows from the last command\n",
    "rows = cur.fetchall()\n",
    "\n",
    "# Print the first row\n",
    "print(rows[0])\n",
    "\n",
    "# Close the connection\n",
    "conn.close()\n"
   ]
  },
  {
   "cell_type": "markdown",
   "id": "c0d4fbe3",
   "metadata": {
    "id": "c0d4fbe3"
   },
   "source": [
    "Don't forget to replace 'your_database_name', 'your_username', 'your_password', and 'your_table_name' with your actual database name, username, password, and table name."
   ]
  },
  {
   "cell_type": "markdown",
   "id": "5523f355",
   "metadata": {
    "id": "5523f355"
   },
   "source": [
    "## File example"
   ]
  },
  {
   "cell_type": "markdown",
   "id": "d37cb120",
   "metadata": {
    "id": "d37cb120"
   },
   "source": [
    "Python can extract data from various types of files. Here's an example of extracting data from a CSV file using the pandas library:"
   ]
  },
  {
   "cell_type": "code",
   "execution_count": 2,
   "id": "223cba54",
   "metadata": {
    "id": "223cba54"
   },
   "outputs": [
    {
     "name": "stdout",
     "output_type": "stream",
     "text": [
      "   order_id  product_id  customer_id  quantity_ordered  price_each\n",
      "0         1           1           35                 4        40.0\n",
      "1         2           7           33                 2        20.0\n",
      "2         3          19           11                 2        10.0\n",
      "3         4           4           48                 1        80.0\n",
      "4         5           3           18                 2        40.0\n"
     ]
    }
   ],
   "source": [
    "import pandas as pd\n",
    "\n",
    "# Read the CSV file\n",
    "df = pd.read_csv('data.csv')\n",
    "\n",
    "# Print the first 5 rows\n",
    "print(df.head())"
   ]
  },
  {
   "cell_type": "markdown",
   "id": "74c197bb",
   "metadata": {
    "id": "74c197bb"
   },
   "source": [
    "In this code, the pandas read_csv() function is used to read the CSV file 'data.csv' into a DataFrame, which is a two-dimensional table-like data structure that can be manipulated in many ways."
   ]
  },
  {
   "cell_type": "markdown",
   "id": "af54982a",
   "metadata": {
    "id": "af54982a"
   },
   "source": [
    "We can extract data from Excel files, JSON files, and more. Here's an example of how to extract data from an Excel file:\n",
    "\n"
   ]
  },
  {
   "cell_type": "code",
   "execution_count": null,
   "id": "62ee6a5e",
   "metadata": {
    "id": "62ee6a5e"
   },
   "outputs": [],
   "source": [
    "import pandas as pd\n",
    "\n",
    "# Read the Excel file\n",
    "df = pd.read_excel('data.xlsx')\n",
    "\n",
    "# Print the first 5 rows\n",
    "print(df.head())\n"
   ]
  },
  {
   "cell_type": "markdown",
   "id": "0aec800f",
   "metadata": {
    "id": "0aec800f"
   },
   "source": [
    "You can install the necessary libraries using pip:"
   ]
  },
  {
   "cell_type": "code",
   "execution_count": null,
   "id": "da02cbf6",
   "metadata": {
    "id": "da02cbf6"
   },
   "outputs": [],
   "source": [
    "#!pip install requests pandas psycopg2 openpyxl"
   ]
  },
  {
   "cell_type": "markdown",
   "id": "e4f6beb4",
   "metadata": {
    "id": "e4f6beb4"
   },
   "source": [
    "### Extracting Data from APIs\n",
    "\n",
    "1. **Requests**: This is a simple yet powerful library for making HTTP requests. It can be used to send all kinds of HTTP requests (GET, POST, PUT, DELETE, etc.) and to handle the responses. It's great for working with APIs.\n",
    "\n",
    "2. **Tweepy**: This is a Python library for accessing the Twitter API. It simplifies the process of working with Twitter's RESTful API.\n",
    "\n",
    "3. **PyGithub**: This is a Python library to access the GitHub REST API. This library allows you to manage your GitHub resources such as repositories, user profiles, and organizations.\n",
    "\n",
    "### Extracting Data from Databases\n",
    "\n",
    "1. **Psycopg2**: This is a PostgreSQL adapter for Python. It is used to connect Python with PostgreSQL.\n",
    "\n",
    "2. **sqlite3**: This module is part of the standard Python library, and it allows you to work with SQLite databases.\n",
    "\n",
    "3. **PyMySQL**: This library allows Python to connect with a MySQL database.\n",
    "\n",
    "4. **SQLAlchemy**: This is a SQL toolkit and ORM (Object-Relational Mapper) that gives application developers the full power and flexibility of SQL.\n",
    "\n",
    "### Web Scraping Libraries\n",
    "\n",
    "1. **Beautiful Soup**: This library is used for parsing HTML and XML documents, which is often useful for web scraping.\n",
    "\n",
    "2. **Scrapy**: This is an open-source web crawling framework that allows you to write spiders to scrape data from websites.\n",
    "\n",
    "3. **Selenium**: This is a tool that allows you to automate browsers. While it's often used for testing web applications, it can also be used for web scraping when the website relies on JavaScript to load or display data.\n",
    "\n",
    "4. **Requests-HTML**: This library combines the capabilities of Requests and Beautiful Soup in a single library, and adds the ability to parse JavaScript-rendered content.\n",
    "\n",
    "Remember to install any of these libraries using pip before using them:\n",
    "\n",
    "```bash\n",
    "pip install requests tweepy PyGithub psycopg2 sqlite3 PyMySQL SQLAlchemy beautifulsoup4 scrapy selenium requests-html\n",
    "```\n",
    "\n",
    "This is a long command, and it will install many libraries. You may wish to only install the libraries that you actually need for your project."
   ]
  },
  {
   "cell_type": "code",
   "execution_count": null,
   "id": "e4d98900",
   "metadata": {
    "id": "e4d98900"
   },
   "outputs": [],
   "source": []
  }
 ],
 "metadata": {
  "colab": {
   "provenance": []
  },
  "kernelspec": {
   "display_name": "Python 3 (ipykernel)",
   "language": "python",
   "name": "python3"
  },
  "language_info": {
   "codemirror_mode": {
    "name": "ipython",
    "version": 3
   },
   "file_extension": ".py",
   "mimetype": "text/x-python",
   "name": "python",
   "nbconvert_exporter": "python",
   "pygments_lexer": "ipython3",
   "version": "3.12.3"
  }
 },
 "nbformat": 4,
 "nbformat_minor": 5
}
