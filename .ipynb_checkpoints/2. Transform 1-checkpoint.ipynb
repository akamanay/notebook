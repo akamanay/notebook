{
 "cells": [
  {
   "cell_type": "markdown",
   "id": "85c00880",
   "metadata": {
    "id": "85c00880"
   },
   "source": [
    "Let's start with a DataFrame that includes several types of common data issues:"
   ]
  },
  {
   "cell_type": "code",
   "execution_count": 1,
   "id": "60c466b1",
   "metadata": {
    "executionInfo": {
     "elapsed": 551,
     "status": "ok",
     "timestamp": 1719030563017,
     "user": {
      "displayName": "Mirado Rafenomahenintsoa",
      "userId": "09956159218912987663"
     },
     "user_tz": -180
    },
    "id": "60c466b1"
   },
   "outputs": [],
   "source": [
    "import pandas as pd\n",
    "import numpy as np\n",
    "\n",
    "# Define a DataFrame\n",
    "data = {\n",
    "    'Name': ['John Doe', 'Jane Smith', np.nan, 'Mike Brown', '', 'Amy '],\n",
    "    'Age': ['30', 'Twenty five', '55', 'Invalid', 23, ' '],\n",
    "    'Salary': [3000, 2000, '', 4000, np.nan, 5000],\n",
    "    'Start date': ['01-01-2010', '20110607', '6/15/2009', '2014/05/04', '', '02-30-2010'],\n",
    "    'Department': ['Sales', 'Marketing', 'Marketing', 'HR', 'HR', ''],\n",
    "    'Gender': ['M', 'F', 'F', '', 'M', 'F'],\n",
    "}\n",
    "\n",
    "df = pd.DataFrame(data)\n"
   ]
  },
  {
   "cell_type": "markdown",
   "id": "54f453fb",
   "metadata": {
    "id": "54f453fb"
   },
   "source": [
    "This DataFrame contains missing values (np.nan and empty strings), inconsistent representations (of dates, for instance), and erroneous values ('Invalid' in the 'Age' column)."
   ]
  },
  {
   "cell_type": "markdown",
   "id": "a8e73b09",
   "metadata": {
    "id": "a8e73b09"
   },
   "source": [
    "# Missing Data Handling"
   ]
  },
  {
   "cell_type": "code",
   "execution_count": 2,
   "id": "76423b69",
   "metadata": {
    "executionInfo": {
     "elapsed": 717,
     "status": "ok",
     "timestamp": 1719030570860,
     "user": {
      "displayName": "Mirado Rafenomahenintsoa",
      "userId": "09956159218912987663"
     },
     "user_tz": -180
    },
    "id": "76423b69"
   },
   "outputs": [],
   "source": [
    "# Replace empty strings with np.nan\n",
    "df.replace('', np.nan, inplace=True)"
   ]
  },
  {
   "cell_type": "code",
   "execution_count": 3,
   "id": "36fe443e",
   "metadata": {
    "executionInfo": {
     "elapsed": 9,
     "status": "ok",
     "timestamp": 1719030576197,
     "user": {
      "displayName": "Mirado Rafenomahenintsoa",
      "userId": "09956159218912987663"
     },
     "user_tz": -180
    },
    "id": "36fe443e"
   },
   "outputs": [],
   "source": [
    "# Fill missing Names with 'Unknown'\n",
    "df['Name'].fillna('Unknown', inplace=True)\n"
   ]
  },
  {
   "cell_type": "code",
   "execution_count": 4,
   "id": "51f8f196",
   "metadata": {
    "executionInfo": {
     "elapsed": 651,
     "status": "ok",
     "timestamp": 1719030581637,
     "user": {
      "displayName": "Mirado Rafenomahenintsoa",
      "userId": "09956159218912987663"
     },
     "user_tz": -180
    },
    "id": "51f8f196"
   },
   "outputs": [],
   "source": [
    "# Fill missing Ages with the mean age\n",
    "df['Age'] = pd.to_numeric(df['Age'], errors='coerce')\n",
    "df['Age'].fillna(df['Age'].mean(), inplace=True)"
   ]
  },
  {
   "cell_type": "code",
   "execution_count": 5,
   "id": "955c9b71",
   "metadata": {
    "executionInfo": {
     "elapsed": 967,
     "status": "ok",
     "timestamp": 1719030587115,
     "user": {
      "displayName": "Mirado Rafenomahenintsoa",
      "userId": "09956159218912987663"
     },
     "user_tz": -180
    },
    "id": "955c9b71"
   },
   "outputs": [],
   "source": [
    "# Drop the rows where at least one element is missing in the columns 'Start date', 'Department' and 'Gender'\n",
    "df.dropna(subset=['Start date', 'Department', 'Gender'], inplace=True)"
   ]
  },
  {
   "cell_type": "markdown",
   "id": "7a9f6046",
   "metadata": {
    "id": "7a9f6046"
   },
   "source": [
    "# Data Cleaning"
   ]
  },
  {
   "cell_type": "code",
   "execution_count": 6,
   "id": "eeb93b41",
   "metadata": {
    "executionInfo": {
     "elapsed": 517,
     "status": "ok",
     "timestamp": 1719030591356,
     "user": {
      "displayName": "Mirado Rafenomahenintsoa",
      "userId": "09956159218912987663"
     },
     "user_tz": -180
    },
    "id": "eeb93b41"
   },
   "outputs": [],
   "source": [
    "# Strip leading and trailing spaces from names\n",
    "df['Name'] = df['Name'].str.strip()\n"
   ]
  },
  {
   "cell_type": "code",
   "execution_count": 7,
   "id": "4209d267",
   "metadata": {
    "executionInfo": {
     "elapsed": 8,
     "status": "ok",
     "timestamp": 1719030594320,
     "user": {
      "displayName": "Mirado Rafenomahenintsoa",
      "userId": "09956159218912987663"
     },
     "user_tz": -180
    },
    "id": "4209d267"
   },
   "outputs": [],
   "source": [
    "# Standardize gender to lowercase\n",
    "df['Gender'] = df['Gender'].str.lower()\n"
   ]
  },
  {
   "cell_type": "code",
   "execution_count": 8,
   "id": "513fa71f",
   "metadata": {
    "executionInfo": {
     "elapsed": 634,
     "status": "ok",
     "timestamp": 1719030599416,
     "user": {
      "displayName": "Mirado Rafenomahenintsoa",
      "userId": "09956159218912987663"
     },
     "user_tz": -180
    },
    "id": "513fa71f"
   },
   "outputs": [],
   "source": [
    "# Replace 'm' with 'Male' and 'f' with 'Female' in 'Gender'\n",
    "df['Gender'].replace({'m': 'Male', 'f': 'Female'}, inplace=True)"
   ]
  },
  {
   "cell_type": "code",
   "execution_count": null,
   "id": "I1HmZuPpNVwv",
   "metadata": {
    "id": "I1HmZuPpNVwv"
   },
   "outputs": [],
   "source": [
    "df"
   ]
  },
  {
   "cell_type": "markdown",
   "id": "947f8c30",
   "metadata": {
    "id": "947f8c30"
   },
   "source": [
    "# Date Formatting"
   ]
  },
  {
   "cell_type": "code",
   "execution_count": 10,
   "id": "419cfd65",
   "metadata": {
    "executionInfo": {
     "elapsed": 769,
     "status": "ok",
     "timestamp": 1719030624448,
     "user": {
      "displayName": "Mirado Rafenomahenintsoa",
      "userId": "09956159218912987663"
     },
     "user_tz": -180
    },
    "id": "419cfd65"
   },
   "outputs": [],
   "source": [
    "# Convert 'Start date' to datetime format\n",
    "df['Start date'] = pd.to_datetime(df['Start date'], errors='coerce')\n"
   ]
  },
  {
   "cell_type": "markdown",
   "id": "5fcfdee3",
   "metadata": {
    "id": "5fcfdee3"
   },
   "source": [
    "# One Hot Encoding (Dummy Variables)"
   ]
  },
  {
   "cell_type": "code",
   "execution_count": 11,
   "id": "fef04fba",
   "metadata": {
    "executionInfo": {
     "elapsed": 604,
     "status": "ok",
     "timestamp": 1719030628847,
     "user": {
      "displayName": "Mirado Rafenomahenintsoa",
      "userId": "09956159218912987663"
     },
     "user_tz": -180
    },
    "id": "fef04fba"
   },
   "outputs": [],
   "source": [
    "# Get one-hot encoding of 'Department'\n",
    "one_hot = pd.get_dummies(df['Department'])\n"
   ]
  },
  {
   "cell_type": "code",
   "execution_count": 12,
   "id": "2cd4ab2e",
   "metadata": {
    "executionInfo": {
     "elapsed": 11,
     "status": "ok",
     "timestamp": 1719030630896,
     "user": {
      "displayName": "Mirado Rafenomahenintsoa",
      "userId": "09956159218912987663"
     },
     "user_tz": -180
    },
    "id": "2cd4ab2e"
   },
   "outputs": [],
   "source": [
    "\n",
    "# Drop 'Department' column as it is now encoded\n",
    "df = df.drop('Department', axis=1)"
   ]
  },
  {
   "cell_type": "code",
   "execution_count": 13,
   "id": "43b01d0c",
   "metadata": {
    "executionInfo": {
     "elapsed": 8,
     "status": "ok",
     "timestamp": 1719030632635,
     "user": {
      "displayName": "Mirado Rafenomahenintsoa",
      "userId": "09956159218912987663"
     },
     "user_tz": -180
    },
    "id": "43b01d0c"
   },
   "outputs": [],
   "source": [
    "\n",
    "# Join the encoded df\n",
    "df = df.join(one_hot)"
   ]
  },
  {
   "cell_type": "code",
   "execution_count": null,
   "id": "9e2a10d5",
   "metadata": {
    "id": "9e2a10d5",
    "outputId": "e6a6768f-7440-42b4-bb58-38f0209a07ec"
   },
   "outputs": [
    {
     "data": {
      "text/html": [
       "<div>\n",
       "<style scoped>\n",
       "    .dataframe tbody tr th:only-of-type {\n",
       "        vertical-align: middle;\n",
       "    }\n",
       "\n",
       "    .dataframe tbody tr th {\n",
       "        vertical-align: top;\n",
       "    }\n",
       "\n",
       "    .dataframe thead th {\n",
       "        text-align: right;\n",
       "    }\n",
       "</style>\n",
       "<table border=\"1\" class=\"dataframe\">\n",
       "  <thead>\n",
       "    <tr style=\"text-align: right;\">\n",
       "      <th></th>\n",
       "      <th>Name</th>\n",
       "      <th>Age</th>\n",
       "      <th>Salary</th>\n",
       "      <th>Start date</th>\n",
       "      <th>Gender</th>\n",
       "      <th>Marketing</th>\n",
       "      <th>Sales</th>\n",
       "    </tr>\n",
       "  </thead>\n",
       "  <tbody>\n",
       "    <tr>\n",
       "      <th>0</th>\n",
       "      <td>John Doe</td>\n",
       "      <td>30.0</td>\n",
       "      <td>3000.0</td>\n",
       "      <td>2010-01-01</td>\n",
       "      <td>Male</td>\n",
       "      <td>0</td>\n",
       "      <td>1</td>\n",
       "    </tr>\n",
       "    <tr>\n",
       "      <th>1</th>\n",
       "      <td>Jane Smith</td>\n",
       "      <td>36.0</td>\n",
       "      <td>2000.0</td>\n",
       "      <td>2011-06-07</td>\n",
       "      <td>Female</td>\n",
       "      <td>1</td>\n",
       "      <td>0</td>\n",
       "    </tr>\n",
       "    <tr>\n",
       "      <th>2</th>\n",
       "      <td>Unknown</td>\n",
       "      <td>55.0</td>\n",
       "      <td>NaN</td>\n",
       "      <td>2009-06-15</td>\n",
       "      <td>Female</td>\n",
       "      <td>1</td>\n",
       "      <td>0</td>\n",
       "    </tr>\n",
       "  </tbody>\n",
       "</table>\n",
       "</div>"
      ],
      "text/plain": [
       "         Name   Age  Salary Start date  Gender  Marketing  Sales\n",
       "0    John Doe  30.0  3000.0 2010-01-01    Male          0      1\n",
       "1  Jane Smith  36.0  2000.0 2011-06-07  Female          1      0\n",
       "2     Unknown  55.0     NaN 2009-06-15  Female          1      0"
      ]
     },
     "execution_count": 14,
     "metadata": {},
     "output_type": "execute_result"
    }
   ],
   "source": [
    "df"
   ]
  },
  {
   "cell_type": "markdown",
   "id": "b8ca8af2",
   "metadata": {
    "id": "b8ca8af2"
   },
   "source": [
    "# Data Transformation"
   ]
  },
  {
   "cell_type": "code",
   "execution_count": null,
   "id": "485f6fe2",
   "metadata": {
    "id": "485f6fe2",
    "outputId": "80dbeb18-46c5-4b1e-b0da-9f2c77b9a762"
   },
   "outputs": [
    {
     "name": "stderr",
     "output_type": "stream",
     "text": [
      "C:\\Users\\3181\\AppData\\Local\\Temp\\ipykernel_16104\\1161486638.py:2: FutureWarning: The pandas.datetime class is deprecated and will be removed from pandas in a future version. Import from datetime module instead.\n",
      "  df['Seniority'] = pd.datetime.now().year - df['Start date'].dt.year\n"
     ]
    }
   ],
   "source": [
    "# Create a new column 'Seniority' based on 'Start date'\n",
    "df['Seniority'] = pd.datetime.now().year - df['Start date'].dt.year"
   ]
  },
  {
   "cell_type": "code",
   "execution_count": null,
   "id": "a814fbad",
   "metadata": {
    "id": "a814fbad"
   },
   "outputs": [],
   "source": [
    "df"
   ]
  },
  {
   "cell_type": "markdown",
   "id": "38c02554",
   "metadata": {
    "id": "38c02554"
   },
   "source": [
    "# Normalization"
   ]
  },
  {
   "cell_type": "code",
   "execution_count": null,
   "id": "364f749c",
   "metadata": {
    "id": "364f749c"
   },
   "outputs": [],
   "source": [
    "# Normalize 'Salary' column (min-max normalization)\n",
    "df['Salary'] = (df['Salary'] - df['Salary'].min()) / (df['Salary'].max() - df['Salary'].min())"
   ]
  },
  {
   "cell_type": "code",
   "execution_count": null,
   "id": "82770b93",
   "metadata": {
    "id": "82770b93"
   },
   "outputs": [],
   "source": [
    "df"
   ]
  },
  {
   "cell_type": "markdown",
   "id": "688145a0",
   "metadata": {
    "id": "688145a0"
   },
   "source": [
    "# Date Transformations"
   ]
  },
  {
   "cell_type": "markdown",
   "id": "b59482c3",
   "metadata": {
    "id": "b59482c3"
   },
   "source": [
    "**Extracting Parts of a Date:** You might want to extract the year, month, day, day of the week, etc., from a date column."
   ]
  },
  {
   "cell_type": "code",
   "execution_count": null,
   "id": "9578658b",
   "metadata": {
    "id": "9578658b"
   },
   "outputs": [],
   "source": [
    "# Extract the year from 'Start date'\n",
    "df['Start Year'] = df['Start date'].dt.year\n",
    "\n",
    "# Extract the month from 'Start date'\n",
    "df['Start Month'] = df['Start date'].dt.month\n",
    "\n",
    "# Extract the day of the week from 'Start date' (0 is Monday and 6 is Sunday)\n",
    "df['Start Day of Week'] = df['Start date'].dt.dayofweek"
   ]
  },
  {
   "cell_type": "code",
   "execution_count": null,
   "id": "2fb91b52",
   "metadata": {
    "id": "2fb91b52",
    "outputId": "490a8e4e-321e-4f8b-ff5d-942244a4c32b"
   },
   "outputs": [
    {
     "data": {
      "text/html": [
       "<div>\n",
       "<style scoped>\n",
       "    .dataframe tbody tr th:only-of-type {\n",
       "        vertical-align: middle;\n",
       "    }\n",
       "\n",
       "    .dataframe tbody tr th {\n",
       "        vertical-align: top;\n",
       "    }\n",
       "\n",
       "    .dataframe thead th {\n",
       "        text-align: right;\n",
       "    }\n",
       "</style>\n",
       "<table border=\"1\" class=\"dataframe\">\n",
       "  <thead>\n",
       "    <tr style=\"text-align: right;\">\n",
       "      <th></th>\n",
       "      <th>Name</th>\n",
       "      <th>Age</th>\n",
       "      <th>Salary</th>\n",
       "      <th>Start date</th>\n",
       "      <th>Gender</th>\n",
       "      <th>Marketing</th>\n",
       "      <th>Sales</th>\n",
       "      <th>Seniority</th>\n",
       "      <th>Start Year</th>\n",
       "      <th>Start Month</th>\n",
       "      <th>Start Day of Week</th>\n",
       "    </tr>\n",
       "  </thead>\n",
       "  <tbody>\n",
       "    <tr>\n",
       "      <th>0</th>\n",
       "      <td>John Doe</td>\n",
       "      <td>30.0</td>\n",
       "      <td>1.0</td>\n",
       "      <td>2010-01-01</td>\n",
       "      <td>Male</td>\n",
       "      <td>0</td>\n",
       "      <td>1</td>\n",
       "      <td>13</td>\n",
       "      <td>2010</td>\n",
       "      <td>1</td>\n",
       "      <td>4</td>\n",
       "    </tr>\n",
       "    <tr>\n",
       "      <th>1</th>\n",
       "      <td>Jane Smith</td>\n",
       "      <td>36.0</td>\n",
       "      <td>0.0</td>\n",
       "      <td>2011-06-07</td>\n",
       "      <td>Female</td>\n",
       "      <td>1</td>\n",
       "      <td>0</td>\n",
       "      <td>12</td>\n",
       "      <td>2011</td>\n",
       "      <td>6</td>\n",
       "      <td>1</td>\n",
       "    </tr>\n",
       "    <tr>\n",
       "      <th>2</th>\n",
       "      <td>Unknown</td>\n",
       "      <td>55.0</td>\n",
       "      <td>NaN</td>\n",
       "      <td>2009-06-15</td>\n",
       "      <td>Female</td>\n",
       "      <td>1</td>\n",
       "      <td>0</td>\n",
       "      <td>14</td>\n",
       "      <td>2009</td>\n",
       "      <td>6</td>\n",
       "      <td>0</td>\n",
       "    </tr>\n",
       "  </tbody>\n",
       "</table>\n",
       "</div>"
      ],
      "text/plain": [
       "         Name   Age  Salary Start date  Gender  Marketing  Sales  Seniority  \\\n",
       "0    John Doe  30.0     1.0 2010-01-01    Male          0      1         13   \n",
       "1  Jane Smith  36.0     0.0 2011-06-07  Female          1      0         12   \n",
       "2     Unknown  55.0     NaN 2009-06-15  Female          1      0         14   \n",
       "\n",
       "   Start Year  Start Month  Start Day of Week  \n",
       "0        2010            1                  4  \n",
       "1        2011            6                  1  \n",
       "2        2009            6                  0  "
      ]
     },
     "execution_count": 22,
     "metadata": {},
     "output_type": "execute_result"
    }
   ],
   "source": [
    "df"
   ]
  },
  {
   "cell_type": "markdown",
   "id": "c9962a3c",
   "metadata": {
    "id": "c9962a3c"
   },
   "source": [
    "**Creating Boolean Flags:** You might want to create flags indicating whether a certain condition is met. For example, you could create a flag for whether the start date is on a weekend."
   ]
  },
  {
   "cell_type": "code",
   "execution_count": null,
   "id": "76f3dca3",
   "metadata": {
    "id": "76f3dca3"
   },
   "outputs": [],
   "source": [
    "# Create a boolean flag for whether the start date is on a weekend\n",
    "df['Starts on Weekend'] = df['Start Day of Week'].isin([5, 6])\n"
   ]
  },
  {
   "cell_type": "markdown",
   "id": "321359b6",
   "metadata": {
    "id": "321359b6"
   },
   "source": [
    "**Converting Timezones:** If your dates are in a specific timezone, you might need to convert them to another timezone."
   ]
  },
  {
   "cell_type": "code",
   "execution_count": null,
   "id": "6d027dd6",
   "metadata": {
    "id": "6d027dd6"
   },
   "outputs": [],
   "source": [
    "# Assume 'Start date' is in UTC and convert to US Eastern Time\n",
    "# Localize the 'Start date' column to UTC\n",
    "df['Start date'] = df['Start date'].dt.tz_localize('UTC')\n",
    "\n",
    "df['Start date'] = df['Start date'].dt.tz_convert('US/Eastern')"
   ]
  },
  {
   "cell_type": "code",
   "execution_count": null,
   "id": "8d7e430a",
   "metadata": {
    "id": "8d7e430a"
   },
   "outputs": [],
   "source": [
    "df"
   ]
  },
  {
   "cell_type": "markdown",
   "id": "96be640e",
   "metadata": {
    "id": "96be640e"
   },
   "source": [
    "**Calculating Time Since:** You might want to calculate the number of days, months, or years since a certain date."
   ]
  },
  {
   "cell_type": "code",
   "execution_count": null,
   "id": "975ef13b",
   "metadata": {
    "id": "975ef13b"
   },
   "outputs": [],
   "source": [
    "# Calculate the number of days since 'Start date'\n",
    "df['Days Since Start'] = (pd.to_datetime('today').tz_localize('US/Eastern') - df['Start date']).dt.days"
   ]
  },
  {
   "cell_type": "code",
   "execution_count": null,
   "id": "90f92a88",
   "metadata": {
    "id": "90f92a88"
   },
   "outputs": [],
   "source": [
    "df"
   ]
  },
  {
   "cell_type": "markdown",
   "id": "1fd14e0e",
   "metadata": {
    "id": "1fd14e0e"
   },
   "source": [
    "**Date Binning:** You can group dates into bins such as quarters of a year or parts of a day.\n"
   ]
  },
  {
   "cell_type": "code",
   "execution_count": null,
   "id": "6fd05712",
   "metadata": {
    "id": "6fd05712",
    "outputId": "bed0fdb2-4b1d-4b40-e552-175aab8d7dc7"
   },
   "outputs": [
    {
     "name": "stderr",
     "output_type": "stream",
     "text": [
      "C:\\Users\\3181\\Anaconda3\\lib\\site-packages\\pandas\\core\\arrays\\datetimes.py:1162: UserWarning: Converting to PeriodArray/Index representation will drop timezone information.\n",
      "  warnings.warn(\n"
     ]
    }
   ],
   "source": [
    "# Bin 'Start date' into quarters\n",
    "df['Start Quarter'] = df['Start date'].dt.to_period('Q')\n"
   ]
  },
  {
   "cell_type": "code",
   "execution_count": null,
   "id": "4df9acd0",
   "metadata": {
    "id": "4df9acd0"
   },
   "outputs": [],
   "source": [
    "df"
   ]
  },
  {
   "cell_type": "code",
   "execution_count": null,
   "id": "12f6bfb6",
   "metadata": {
    "id": "12f6bfb6"
   },
   "outputs": [],
   "source": []
  }
 ],
 "metadata": {
  "colab": {
   "provenance": []
  },
  "kernelspec": {
   "display_name": "Python 3 (ipykernel)",
   "language": "python",
   "name": "python3"
  },
  "language_info": {
   "codemirror_mode": {
    "name": "ipython",
    "version": 3
   },
   "file_extension": ".py",
   "mimetype": "text/x-python",
   "name": "python",
   "nbconvert_exporter": "python",
   "pygments_lexer": "ipython3",
   "version": "3.12.3"
  }
 },
 "nbformat": 4,
 "nbformat_minor": 5
}
